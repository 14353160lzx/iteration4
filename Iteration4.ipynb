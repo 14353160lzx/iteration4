{
 "cells": [
  {
   "cell_type": "code",
   "execution_count": 1,
   "metadata": {},
   "outputs": [],
   "source": [
    "# Must be included at the beginning of each new notebook. Remember to change the app name.\n",
    "import findspark\n",
    "findspark.init('/home/ubuntu/spark-2.1.1-bin-hadoop2.7')\n",
    "import pyspark\n",
    "from pyspark.sql import SparkSession\n",
    "spark = SparkSession.builder.appName('Iteration4_ME').getOrCreate()"
   ]
  },
  {
   "cell_type": "markdown",
   "metadata": {},
   "source": [
    "# Data description\n",
    "## Overview of dataset"
   ]
  },
  {
   "cell_type": "code",
   "execution_count": 2,
   "metadata": {},
   "outputs": [
    {
     "name": "stdout",
     "output_type": "stream",
     "text": [
      "+-----+------+---+-----------+-----------------+----------------+-------------------+----------+--------------+\n",
      "|D_no.|gender|age| Experience|High_speed_acc_lv|Low_speed_acc_lv|High_speed_deacc_lv|aggressive|motor_emission|\n",
      "+-----+------+---+-----------+-----------------+----------------+-------------------+----------+--------------+\n",
      "|    1|  male| 37|experienced|                0|               0|                  0|         0|   0.405752109|\n",
      "|    2|  male| 26|experienced|                0|               0|                  0|         0|   0.420112566|\n",
      "|    3|female| 51|experienced|                0|               0|                  0|         0|   0.384248646|\n",
      "|    4|  male| 48|    novince|                0|               0|                  1|         1|   0.483147426|\n",
      "|    5|  male| 26|experienced|                1|               0|               null|         0|   0.444735788|\n",
      "|    6|  male| 58|    novince|                1|               0|                  1|         1|   0.525062254|\n",
      "|    7|female| 24|    novince|                1|            null|                  1|         0|    0.48444717|\n",
      "|    8|female| 47|experienced|                0|               0|                  0|         0|   0.405924972|\n",
      "|    9|  male| 28|experienced|                1|               0|               null|         0|   0.440848256|\n",
      "|   10|  male| 25|experienced|                0|               0|                  0|         0|   0.403779716|\n",
      "|   11|  male| 24|experienced|                0|               0|                  0|         0|   0.415305164|\n",
      "|   12|  male| 25|experienced|                0|               0|                  0|         0|   0.409683008|\n",
      "|   13|  male| 38|experienced|                0|               0|                  0|         0|   0.388998558|\n",
      "|   14|  male| 38|experienced|                1|               0|                  0|         0|   0.470359014|\n",
      "|   15|  male| 37|experienced|                0|               0|                  0|         0|   0.389981229|\n",
      "|   16|female| 40|experienced|                0|               0|                  0|         0|   0.417141486|\n",
      "|   17|  male| 34|experienced|                0|               0|                  0|         0|   0.416627666|\n",
      "|   18|  male| 21|experienced|                1|               0|                  0|         0|   0.471383964|\n",
      "|   19|female| 56|experienced|                0|               0|                  0|         0|   0.403608113|\n",
      "|   20|  male| 36|experienced|                0|               0|                  0|         0|   0.398403256|\n",
      "+-----+------+---+-----------+-----------------+----------------+-------------------+----------+--------------+\n",
      "only showing top 20 rows\n",
      "\n"
     ]
    }
   ],
   "source": [
    "#load the dataset\n",
    "df = spark.read.csv('driver_charasteristic.csv', header=True, inferSchema=True)\n",
    "df.show()\n",
    "#df.columns\n",
    "#df.head(1)"
   ]
  },
  {
   "cell_type": "markdown",
   "metadata": {},
   "source": [
    "## Features of datset"
   ]
  },
  {
   "cell_type": "code",
   "execution_count": 3,
   "metadata": {},
   "outputs": [
    {
     "name": "stdout",
     "output_type": "stream",
     "text": [
      "root\n",
      " |-- No: integer (nullable = true)\n",
      " |-- gender: string (nullable = true)\n",
      " |-- age: integer (nullable = true)\n",
      " |-- Experience: string (nullable = true)\n",
      " |-- High_speed_acc_lv: integer (nullable = true)\n",
      " |-- Low_speed_acc_lv: integer (nullable = true)\n",
      " |-- High_speed_deacc_lv: integer (nullable = true)\n",
      " |-- aggressive: integer (nullable = true)\n",
      " |-- motor_emission: double (nullable = true)\n",
      "\n"
     ]
    }
   ],
   "source": [
    "#data type\n",
    "df = df.withColumnRenamed(\"D_no.\",\"No\") #Feature name D_no. may cause functional error of the program which has to be renamed.\n",
    "df.printSchema()"
   ]
  },
  {
   "cell_type": "markdown",
   "metadata": {},
   "source": [
    "## Data exploration"
   ]
  },
  {
   "cell_type": "code",
   "execution_count": 4,
   "metadata": {},
   "outputs": [
    {
     "name": "stdout",
     "output_type": "stream",
     "text": [
      "+------+----------+-------------+-------------------+\n",
      "|gender|aggressive|count(gender)|avg(motor_emission)|\n",
      "+------+----------+-------------+-------------------+\n",
      "|  null|      null|            0|               null|\n",
      "|female|      null|            4|       0.4429964275|\n",
      "|  male|         0|          320| 0.4378172056218754|\n",
      "|  male|      null|            4|      0.44855222725|\n",
      "|female|         1|           41|        0.591457677|\n",
      "|female|         0|          147| 0.4335012906530611|\n",
      "|  male|         1|          141| 0.6529134100851062|\n",
      "+------+----------+-------------+-------------------+\n",
      "\n",
      "+------+----------+-------------+-------------------+\n",
      "|gender|aggressive|count(gender)|avg(motor_emission)|\n",
      "+------+----------+-------------+-------------------+\n",
      "|  male|         0|          320| 0.4378172056218754|\n",
      "|female|         1|           41|        0.591457677|\n",
      "|female|         0|          147| 0.4335012906530611|\n",
      "|  male|         1|          141| 0.6529134100851062|\n",
      "+------+----------+-------------+-------------------+\n",
      "\n"
     ]
    }
   ],
   "source": [
    "#data exploration\n",
    "#Initialize the data table for sql query\n",
    "df.createOrReplaceTempView('ME')\n",
    "#aggressive and gender\n",
    "results = spark.sql(\"select gender,aggressive,count(gender),mean(motor_emission) from ME group by gender,aggressive\")\n",
    "results.show()\n",
    "results.na.drop().show()"
   ]
  },
  {
   "cell_type": "code",
   "execution_count": 5,
   "metadata": {},
   "outputs": [
    {
     "name": "stdout",
     "output_type": "stream",
     "text": [
      "+----------+----------------------+---------------------+------------------------+-----------------+-------------------+\n",
      "|aggressive|avg(High_speed_acc_lv)|avg(Low_speed_acc_lv)|avg(High_speed_deacc_lv)|count(aggressive)|avg(motor_emission)|\n",
      "+----------+----------------------+---------------------+------------------------+-----------------+-------------------+\n",
      "|      null|                  0.25|   0.3333333333333333|                    0.75|                0|0.44577432737499995|\n",
      "|         1|    0.9010989010989011|   0.9195402298850575|      0.9395604395604396|              182| 0.6390689866978023|\n",
      "|         0|    0.2039045553145336| 0.030534351145038167|     0.47956989247311826|              467|0.43645866279443274|\n",
      "+----------+----------------------+---------------------+------------------------+-----------------+-------------------+\n",
      "\n",
      "+----------+----------------------+---------------------+------------------------+-----------------+-------------------+\n",
      "|aggressive|avg(High_speed_acc_lv)|avg(Low_speed_acc_lv)|avg(High_speed_deacc_lv)|count(aggressive)|avg(motor_emission)|\n",
      "+----------+----------------------+---------------------+------------------------+-----------------+-------------------+\n",
      "|         1|    0.9010989010989011|   0.9195402298850575|      0.9395604395604396|              182| 0.6390689866978023|\n",
      "|         0|    0.2039045553145336| 0.030534351145038167|     0.47956989247311826|              467|0.43645866279443274|\n",
      "+----------+----------------------+---------------------+------------------------+-----------------+-------------------+\n",
      "\n"
     ]
    }
   ],
   "source": [
    "#aggrissive and acceleration rate\n",
    "results = spark.sql(\"select aggressive,mean(High_speed_acc_lv),mean(Low_speed_acc_lv),mean(High_speed_deacc_lv),\\\n",
    "                        count(aggressive),mean(motor_emission) from ME group by aggressive\")\n",
    "results.show()\n",
    "results.na.drop().show()"
   ]
  },
  {
   "cell_type": "code",
   "execution_count": 6,
   "metadata": {},
   "outputs": [
    {
     "name": "stdout",
     "output_type": "stream",
     "text": [
      "+-----------+----------------------+---------------------+------------------------+-----------------+-------------------+\n",
      "| Experience|avg(High_speed_acc_lv)|avg(Low_speed_acc_lv)|avg(High_speed_deacc_lv)|count(Experience)|avg(motor_emission)|\n",
      "+-----------+----------------------+---------------------+------------------------+-----------------+-------------------+\n",
      "|    novince|   0.15217391304347827| 0.061224489795918366|      0.9700854700854701|              234|0.45611803235897436|\n",
      "|       null|                  null|                  1.0|                    null|                0|               null|\n",
      "|experienced|    0.5344418052256532|   0.3862559241706161|     0.41092636579572445|              423| 0.5129345771891256|\n",
      "+-----------+----------------------+---------------------+------------------------+-----------------+-------------------+\n",
      "\n",
      "+-----------+----------------------+---------------------+------------------------+-----------------+-------------------+\n",
      "| Experience|avg(High_speed_acc_lv)|avg(Low_speed_acc_lv)|avg(High_speed_deacc_lv)|count(Experience)|avg(motor_emission)|\n",
      "+-----------+----------------------+---------------------+------------------------+-----------------+-------------------+\n",
      "|    novince|   0.15217391304347827| 0.061224489795918366|      0.9700854700854701|              234|0.45611803235897436|\n",
      "|experienced|    0.5344418052256532|   0.3862559241706161|     0.41092636579572445|              423| 0.5129345771891256|\n",
      "+-----------+----------------------+---------------------+------------------------+-----------------+-------------------+\n",
      "\n"
     ]
    }
   ],
   "source": [
    "#experience and acceleration rate\n",
    "results = spark.sql(\"select Experience,mean(High_speed_acc_lv),mean(Low_speed_acc_lv),mean(High_speed_deacc_lv),\\\n",
    "                        count(Experience),mean(motor_emission) from ME group by Experience\")\n",
    "results.show()\n",
    "results.na.drop().show()"
   ]
  },
  {
   "cell_type": "code",
   "execution_count": 7,
   "metadata": {},
   "outputs": [
    {
     "name": "stdout",
     "output_type": "stream",
     "text": [
      "+------------------+----------------------+---------------------+------------------------+----------+-------------------+\n",
      "|          avg(age)|avg(High_speed_acc_lv)|avg(Low_speed_acc_lv)|avg(High_speed_deacc_lv)|count(age)|avg(motor_emission)|\n",
      "+------------------+----------------------+---------------------+------------------------+----------+-------------------+\n",
      "|29.965675057208237|    0.5127020785219399|  0.41225626740947074|      0.5310344827586206|       437| 0.5104570789450803|\n",
      "+------------------+----------------------+---------------------+------------------------+----------+-------------------+\n",
      "\n",
      "+-----------------+----------------------+---------------------+------------------------+----------+-------------------+\n",
      "|         avg(age)|avg(High_speed_acc_lv)|avg(Low_speed_acc_lv)|avg(High_speed_deacc_lv)|count(age)|avg(motor_emission)|\n",
      "+-----------------+----------------------+---------------------+------------------------+----------+-------------------+\n",
      "|50.46560846560847|   0.14285714285714285|  0.08064516129032258|       0.783068783068783|       189|0.45087004078835974|\n",
      "+-----------------+----------------------+---------------------+------------------------+----------+-------------------+\n",
      "\n"
     ]
    }
   ],
   "source": [
    "#age and acceleration rate\n",
    "results1 = spark.sql(\"select mean(age),mean(High_speed_acc_lv),mean(Low_speed_acc_lv),mean(High_speed_deacc_lv),\\\n",
    "                        count(age),mean(motor_emission) from ME where age < 40\")\n",
    "results1.show()\n",
    "results2 = spark.sql(\"select mean(age),mean(High_speed_acc_lv),mean(Low_speed_acc_lv),mean(High_speed_deacc_lv),\\\n",
    "                        count(age),mean(motor_emission) from ME where age > 40\")\n",
    "results2.show()"
   ]
  },
  {
   "cell_type": "markdown",
   "metadata": {},
   "source": [
    "## data quality\n",
    "### Null value"
   ]
  },
  {
   "cell_type": "code",
   "execution_count": 8,
   "metadata": {},
   "outputs": [
    {
     "name": "stdout",
     "output_type": "stream",
     "text": [
      "+------+-----+\n",
      "|gender|count|\n",
      "+------+-----+\n",
      "|  null|    3|\n",
      "|female|  192|\n",
      "|  male|  465|\n",
      "+------+-----+\n",
      "\n",
      "+-----------+-----+\n",
      "| Experience|count|\n",
      "+-----------+-----+\n",
      "|    novince|  234|\n",
      "|       null|    3|\n",
      "|experienced|  423|\n",
      "+-----------+-----+\n",
      "\n",
      "+----------+-----+\n",
      "|aggressive|count|\n",
      "+----------+-----+\n",
      "|      null|   11|\n",
      "|         1|  182|\n",
      "|         0|  467|\n",
      "+----------+-----+\n",
      "\n",
      "0\n",
      "+-----------------+-----+\n",
      "|High_speed_acc_lv|count|\n",
      "+-----------------+-----+\n",
      "|             null|    9|\n",
      "|                1|  260|\n",
      "|                0|  391|\n",
      "+-----------------+-----+\n",
      "\n",
      "+----------------+-----+\n",
      "|Low_speed_acc_lv|count|\n",
      "+----------------+-----+\n",
      "|            null|   90|\n",
      "|               1|  173|\n",
      "|               0|  397|\n",
      "+----------------+-----+\n",
      "\n",
      "+-------------------+-----+\n",
      "|High_speed_deacc_lv|count|\n",
      "+-------------------+-----+\n",
      "|               null|    5|\n",
      "|                  1|  400|\n",
      "|                  0|  255|\n",
      "+-------------------+-----+\n",
      "\n"
     ]
    }
   ],
   "source": [
    "#show the number of different instances\n",
    "df.groupBy('gender').count().show()\n",
    "df.groupBy('Experience').count().show()\n",
    "df.groupBy('aggressive').count().show()\n",
    "print(df.filter('motor_emission = null').count())\n",
    "df.groupBy('High_speed_acc_lv').count().show()\n",
    "df.groupBy('Low_speed_acc_lv').count().show()\n",
    "df.groupBy('High_speed_deacc_lv').count().show()\n"
   ]
  },
  {
   "cell_type": "markdown",
   "metadata": {},
   "source": [
    "### Outliers"
   ]
  },
  {
   "cell_type": "code",
   "execution_count": 9,
   "metadata": {},
   "outputs": [
    {
     "name": "stdout",
     "output_type": "stream",
     "text": [
      "0\n"
     ]
    }
   ],
   "source": [
    "print(df.filter('motor_emission < 0 or motor_emission > 1').count())"
   ]
  },
  {
   "cell_type": "markdown",
   "metadata": {},
   "source": [
    "# Data preparation\n",
    "## Data cleaning"
   ]
  },
  {
   "cell_type": "code",
   "execution_count": 10,
   "metadata": {},
   "outputs": [
    {
     "name": "stdout",
     "output_type": "stream",
     "text": [
      "+---+------+---+-----------+-----------------+----------------+-------------------+----------+--------------+\n",
      "| No|gender|age| Experience|High_speed_acc_lv|Low_speed_acc_lv|High_speed_deacc_lv|aggressive|motor_emission|\n",
      "+---+------+---+-----------+-----------------+----------------+-------------------+----------+--------------+\n",
      "|  1|  male| 37|experienced|                0|               0|                  0|         0|   0.405752109|\n",
      "|  2|  male| 26|experienced|                0|               0|                  0|         0|   0.420112566|\n",
      "|  3|female| 51|experienced|                0|               0|                  0|         0|   0.384248646|\n",
      "|  4|  male| 48|    novince|                0|               0|                  1|         1|   0.483147426|\n",
      "|  6|  male| 58|    novince|                1|               0|                  1|         1|   0.525062254|\n",
      "|  8|female| 47|experienced|                0|               0|                  0|         0|   0.405924972|\n",
      "| 10|  male| 25|experienced|                0|               0|                  0|         0|   0.403779716|\n",
      "| 11|  male| 24|experienced|                0|               0|                  0|         0|   0.415305164|\n",
      "| 12|  male| 25|experienced|                0|               0|                  0|         0|   0.409683008|\n",
      "| 13|  male| 38|experienced|                0|               0|                  0|         0|   0.388998558|\n",
      "| 14|  male| 38|experienced|                1|               0|                  0|         0|   0.470359014|\n",
      "| 15|  male| 37|experienced|                0|               0|                  0|         0|   0.389981229|\n",
      "| 16|female| 40|experienced|                0|               0|                  0|         0|   0.417141486|\n",
      "| 17|  male| 34|experienced|                0|               0|                  0|         0|   0.416627666|\n",
      "| 18|  male| 21|experienced|                1|               0|                  0|         0|   0.471383964|\n",
      "| 19|female| 56|experienced|                0|               0|                  0|         0|   0.403608113|\n",
      "| 20|  male| 36|experienced|                0|               0|                  0|         0|   0.398403256|\n",
      "| 21|  male| 31|experienced|                0|               0|                  0|         0|   0.414839511|\n",
      "| 22|  male| 31|experienced|                0|               0|                  0|         0|   0.421422323|\n",
      "| 23|  male| 28|experienced|                0|               0|                  0|         0|    0.41827233|\n",
      "+---+------+---+-----------+-----------------+----------------+-------------------+----------+--------------+\n",
      "only showing top 20 rows\n",
      "\n",
      "563\n"
     ]
    }
   ],
   "source": [
    "#droup all instance with null values\n",
    "df = df.na.drop()\n",
    "df.show()\n",
    "print(df.count())"
   ]
  },
  {
   "cell_type": "markdown",
   "metadata": {},
   "source": [
    "## Data construction"
   ]
  },
  {
   "cell_type": "code",
   "execution_count": 11,
   "metadata": {},
   "outputs": [
    {
     "name": "stdout",
     "output_type": "stream",
     "text": [
      "+------+----------+-----------+-----------+\n",
      "|gender|gender_int| Experience|Experienced|\n",
      "+------+----------+-----------+-----------+\n",
      "|  male|         1|experienced|          1|\n",
      "|  male|         1|experienced|          1|\n",
      "|female|         0|experienced|          1|\n",
      "|  male|         1|    novince|          0|\n",
      "|  male|         1|    novince|          0|\n",
      "|female|         0|experienced|          1|\n",
      "|  male|         1|experienced|          1|\n",
      "|  male|         1|experienced|          1|\n",
      "|  male|         1|experienced|          1|\n",
      "|  male|         1|experienced|          1|\n",
      "|  male|         1|experienced|          1|\n",
      "|  male|         1|experienced|          1|\n",
      "|female|         0|experienced|          1|\n",
      "|  male|         1|experienced|          1|\n",
      "|  male|         1|experienced|          1|\n",
      "|female|         0|experienced|          1|\n",
      "|  male|         1|experienced|          1|\n",
      "|  male|         1|experienced|          1|\n",
      "|  male|         1|experienced|          1|\n",
      "|  male|         1|experienced|          1|\n",
      "+------+----------+-----------+-----------+\n",
      "only showing top 20 rows\n",
      "\n"
     ]
    }
   ],
   "source": [
    "import pyspark.sql.functions as F\n",
    "#Reconstruct feature from string to flag\n",
    "new_df = df.withColumn(\"Experienced\", F.when(df[\"Experience\"] == \"experienced\",1).otherwise(0))\n",
    "new_df = new_df.withColumn(\"gender_int\", F.when(df[\"gender\"] == \"male\",1).otherwise(0))\n",
    "new_df.select(['gender','gender_int','Experience','Experienced']).show()\n"
   ]
  },
  {
   "cell_type": "markdown",
   "metadata": {},
   "source": [
    "## example of data integration"
   ]
  },
  {
   "cell_type": "code",
   "execution_count": 12,
   "metadata": {
    "scrolled": true
   },
   "outputs": [
    {
     "name": "stdout",
     "output_type": "stream",
     "text": [
      "+---+------+---+\n",
      "| No|gender|age|\n",
      "+---+------+---+\n",
      "|  1|  male| 37|\n",
      "+---+------+---+\n",
      "only showing top 1 row\n",
      "\n",
      "+---+------+-----------+\n",
      "|No2|gender| Experience|\n",
      "+---+------+-----------+\n",
      "|  1|  male|experienced|\n",
      "+---+------+-----------+\n",
      "only showing top 1 row\n",
      "\n",
      "+---+------+---+-----------+\n",
      "| No|gender|age| Experience|\n",
      "+---+------+---+-----------+\n",
      "|  1|  male| 37|experienced|\n",
      "+---+------+---+-----------+\n",
      "only showing top 1 row\n",
      "\n"
     ]
    }
   ],
   "source": [
    "df1 = df.select(['No','gender','age'])\n",
    "df2 = df.select(['No','gender','Experience']).withColumnRenamed(\"No\",\"No2\")\n",
    "Int_df = df1.join(df2.drop('gender'), df1[\"No\"] == df2[\"No2\"],\"leftouter\").drop('No2')\n",
    "df1.show(1)\n",
    "df2.show(1)\n",
    "Int_df.show(1)"
   ]
  },
  {
   "cell_type": "markdown",
   "metadata": {},
   "source": [
    "# Data transformation\n",
    "## Reduce the data"
   ]
  },
  {
   "cell_type": "code",
   "execution_count": 13,
   "metadata": {},
   "outputs": [
    {
     "name": "stdout",
     "output_type": "stream",
     "text": [
      "+---+-----------------+----------------+-------------------+----------+--------------+-----------+----------+\n",
      "|age|High_speed_acc_lv|Low_speed_acc_lv|High_speed_deacc_lv|aggressive|motor_emission|Experienced|gender_int|\n",
      "+---+-----------------+----------------+-------------------+----------+--------------+-----------+----------+\n",
      "| 37|                0|               0|                  0|         0|   0.405752109|          1|         1|\n",
      "| 26|                0|               0|                  0|         0|   0.420112566|          1|         1|\n",
      "| 51|                0|               0|                  0|         0|   0.384248646|          1|         0|\n",
      "| 48|                0|               0|                  1|         1|   0.483147426|          0|         1|\n",
      "+---+-----------------+----------------+-------------------+----------+--------------+-----------+----------+\n",
      "only showing top 4 rows\n",
      "\n"
     ]
    }
   ],
   "source": [
    "new_df = new_df.drop('No','gender','Experience')\n",
    "new_df.show(4)"
   ]
  },
  {
   "cell_type": "markdown",
   "metadata": {},
   "source": [
    "## Data projection"
   ]
  },
  {
   "cell_type": "code",
   "execution_count": 14,
   "metadata": {},
   "outputs": [
    {
     "name": "stdout",
     "output_type": "stream",
     "text": [
      "+---+--------------+\n",
      "|age|normalized_age|\n",
      "+---+--------------+\n",
      "| 37|         0.425|\n",
      "| 26|          0.15|\n",
      "| 51|         0.775|\n",
      "| 48|           0.7|\n",
      "| 58|          0.95|\n",
      "| 47|         0.675|\n",
      "| 25|         0.125|\n",
      "| 24|           0.1|\n",
      "| 25|         0.125|\n",
      "| 38|          0.45|\n",
      "+---+--------------+\n",
      "only showing top 10 rows\n",
      "\n"
     ]
    }
   ],
   "source": [
    "#data normalization\n",
    "new_df = new_df.withColumn('normalized_age',(new_df['age'] - 20)/40)\n",
    "new_df.select('age','normalized_age').show(10)"
   ]
  },
  {
   "cell_type": "code",
   "execution_count": 15,
   "metadata": {},
   "outputs": [
    {
     "name": "stdout",
     "output_type": "stream",
     "text": [
      "+-----------------+----------------+-------------------+----------+--------------+-----------+----------+--------------+\n",
      "|High_speed_acc_lv|Low_speed_acc_lv|High_speed_deacc_lv|aggressive|motor_emission|Experienced|gender_int|normalized_age|\n",
      "+-----------------+----------------+-------------------+----------+--------------+-----------+----------+--------------+\n",
      "|                0|               0|                  0|         0|   0.405752109|          1|         1|         0.425|\n",
      "|                0|               0|                  0|         0|   0.420112566|          1|         1|          0.15|\n",
      "|                0|               0|                  0|         0|   0.384248646|          1|         0|         0.775|\n",
      "|                0|               0|                  1|         1|   0.483147426|          0|         1|           0.7|\n",
      "|                1|               0|                  1|         1|   0.525062254|          0|         1|          0.95|\n",
      "|                0|               0|                  0|         0|   0.405924972|          1|         0|         0.675|\n",
      "|                0|               0|                  0|         0|   0.403779716|          1|         1|         0.125|\n",
      "|                0|               0|                  0|         0|   0.415305164|          1|         1|           0.1|\n",
      "|                0|               0|                  0|         0|   0.409683008|          1|         1|         0.125|\n",
      "|                0|               0|                  0|         0|   0.388998558|          1|         1|          0.45|\n",
      "+-----------------+----------------+-------------------+----------+--------------+-----------+----------+--------------+\n",
      "only showing top 10 rows\n",
      "\n"
     ]
    }
   ],
   "source": [
    "#drop the age column afterwards\n",
    "new_df = new_df.drop('age')\n",
    "new_df.show(10)"
   ]
  },
  {
   "cell_type": "markdown",
   "metadata": {},
   "source": [
    "# spliting dataset (test design)"
   ]
  },
  {
   "cell_type": "code",
   "execution_count": 18,
   "metadata": {},
   "outputs": [
    {
     "name": "stdout",
     "output_type": "stream",
     "text": [
      "+--------------------+--------------+\n",
      "|            features|motor_emission|\n",
      "+--------------------+--------------+\n",
      "|(7,[4,5,6],[1.0,1...|   0.405752109|\n",
      "|(7,[4,5,6],[1.0,1...|   0.420112566|\n",
      "|(7,[4,6],[1.0,0.7...|   0.384248646|\n",
      "|[0.0,0.0,1.0,1.0,...|   0.483147426|\n",
      "|[1.0,0.0,1.0,1.0,...|   0.525062254|\n",
      "|(7,[4,6],[1.0,0.6...|   0.405924972|\n",
      "|(7,[4,5,6],[1.0,1...|   0.403779716|\n",
      "|(7,[4,5,6],[1.0,1...|   0.415305164|\n",
      "|(7,[4,5,6],[1.0,1...|   0.409683008|\n",
      "|(7,[4,5,6],[1.0,1...|   0.388998558|\n",
      "|[1.0,0.0,0.0,0.0,...|   0.470359014|\n",
      "|(7,[4,5,6],[1.0,1...|   0.389981229|\n",
      "| (7,[4,6],[1.0,0.5])|   0.417141486|\n",
      "|(7,[4,5,6],[1.0,1...|   0.416627666|\n",
      "|[1.0,0.0,0.0,0.0,...|   0.471383964|\n",
      "| (7,[4,6],[1.0,0.9])|   0.403608113|\n",
      "|(7,[4,5,6],[1.0,1...|   0.398403256|\n",
      "|(7,[4,5,6],[1.0,1...|   0.414839511|\n",
      "|(7,[4,5,6],[1.0,1...|   0.421422323|\n",
      "|(7,[4,5,6],[1.0,1...|    0.41827233|\n",
      "+--------------------+--------------+\n",
      "only showing top 20 rows\n",
      "\n"
     ]
    }
   ],
   "source": [
    "from pyspark.ml.linalg import Vectors\n",
    "from pyspark.ml.feature import VectorAssembler\n",
    "assembler = VectorAssembler(\n",
    "    inputCols=[\"High_speed_acc_lv\",\"Low_speed_acc_lv\",\"High_speed_deacc_lv\",\"aggressive\",\n",
    "               \"Experienced\", \"gender_int\", \"normalized_age\"],\n",
    "    outputCol=\"features\")\n",
    "Data = assembler.transform(new_df).select('features','motor_emission')\n",
    "\n",
    "(trainingData,validatingData, testData) = Data.randomSplit([0.6, 0.2, 0.2])\n",
    "Data.show(20)"
   ]
  },
  {
   "cell_type": "markdown",
   "metadata": {},
   "source": [
    "# Algorithm selection\n",
    "## Linear regression"
   ]
  },
  {
   "cell_type": "code",
   "execution_count": 19,
   "metadata": {
    "scrolled": false
   },
   "outputs": [
    {
     "name": "stdout",
     "output_type": "stream",
     "text": [
      "Coefficients: [0.048164432541187546,0.12716032579290829,0.04490855762402307,0.03703694748471958,0.002082099795425007,0.000555063078109744,-0.019172624367376597]\n",
      "Intercept: 0.40926861369796175\n",
      "numIterations: 1\n",
      "objectiveHistory: [0.0]\n",
      "+--------------------+\n",
      "|           residuals|\n",
      "+--------------------+\n",
      "|-0.01139575959783...|\n",
      "|5.080324021633498E-4|\n",
      "|0.003297864494007...|\n",
      "|0.016411487539929603|\n",
      "|-0.00899476563118...|\n",
      "|2.367155249982655...|\n",
      "|0.011283267675462894|\n",
      "|0.002144268376491454|\n",
      "|-0.00967311718677...|\n",
      "|-6.59806577586519...|\n",
      "|0.002291330519302859|\n",
      "|-0.00523046021640...|\n",
      "|-8.02526216406251...|\n",
      "|0.008033283783593748|\n",
      "|0.013862425783593757|\n",
      "| 0.00795690139277816|\n",
      "|-0.01194245099803...|\n",
      "|-0.01168452299803...|\n",
      "|-0.00511844099803...|\n",
      "|0.006503807001962569|\n",
      "+--------------------+\n",
      "only showing top 20 rows\n",
      "\n",
      "RMSE: 0.009347\n",
      "r2: 0.992628\n"
     ]
    }
   ],
   "source": [
    "from pyspark.ml.regression import LinearRegression\n",
    "from pyspark.ml.evaluation import RegressionEvaluator\n",
    "\n",
    "#initialize linear regression model\n",
    "lr = LinearRegression(labelCol='motor_emission')\n",
    "#lr = LinearRegression(maxIter=100, regParam=0.001, elasticNetParam= 0,labelCol='motor_emission')\n",
    "\n",
    "# Fit the model\n",
    "lrModel = lr.fit(trainingData)\n",
    "# Print the coefficients and intercept for linear regression\n",
    "print(\"Coefficients: %s\" % str(lrModel.coefficients))\n",
    "print(\"Intercept: %s\" % str(lrModel.intercept))\n",
    "\n",
    "# Summarize the model over the training set and print out some metrics\n",
    "trainingSummary = lrModel.summary\n",
    "print(\"numIterations: %d\" % trainingSummary.totalIterations)\n",
    "print(\"objectiveHistory: %s\" % str(trainingSummary.objectiveHistory))\n",
    "trainingSummary.residuals.show()\n",
    "print(\"RMSE: %f\" % trainingSummary.rootMeanSquaredError)\n",
    "print(\"r2: %f\" % trainingSummary.r2)\n"
   ]
  },
  {
   "cell_type": "code",
   "execution_count": 20,
   "metadata": {},
   "outputs": [
    {
     "name": "stdout",
     "output_type": "stream",
     "text": [
      "+-------------------+--------------+--------------------+\n",
      "|         prediction|motor_emission|            features|\n",
      "+-------------------+--------------+--------------------+\n",
      "| 0.4561599367702834|    0.47321014|(7,[0,4,6],[1.0,1...|\n",
      "| 0.4447556964969839|   0.433788067|(7,[2,4,6],[1.0,1...|\n",
      "| 0.4385245935775865|   0.439606618|(7,[2,4,6],[1.0,1...|\n",
      "| 0.4489804470898816|   0.451224253|(7,[2,5,6],[1.0,1...|\n",
      "|0.44610455343477506|   0.433955702|(7,[2,5,6],[1.0,1...|\n",
      "+-------------------+--------------+--------------------+\n",
      "only showing top 5 rows\n",
      "\n",
      "Root Mean Squared Error (RMSE) on test data = 0.00953561\n",
      "Coefficient of determination (r2) on test data = 0.990284\n"
     ]
    }
   ],
   "source": [
    "## Testing result of Linear regression\n",
    "# Make predictions.\n",
    "predictions = lrModel.transform(testData)\n",
    "\n",
    "# Select example rows to display.\n",
    "predictions.select(\"prediction\", \"motor_emission\", \"features\").show(5)\n",
    "\n",
    "# Select (prediction, true label) and compute test error\n",
    "evaluator1 = RegressionEvaluator(\n",
    "    labelCol=\"motor_emission\", predictionCol=\"prediction\", metricName=\"rmse\")\n",
    "rmse = evaluator1.evaluate(predictions)\n",
    "print(\"Root Mean Squared Error (RMSE) on test data = %g\" % rmse)\n",
    "\n",
    "evaluator2 = RegressionEvaluator(\n",
    "    labelCol=\"motor_emission\", predictionCol=\"prediction\", metricName=\"r2\")\n",
    "r2 = evaluator2.evaluate(predictions)\n",
    "print(\"Coefficient of determination (r2) on test data = %g\" % r2)"
   ]
  },
  {
   "cell_type": "markdown",
   "metadata": {},
   "source": [
    "## Decision tree regression"
   ]
  },
  {
   "cell_type": "code",
   "execution_count": 21,
   "metadata": {},
   "outputs": [
    {
     "name": "stdout",
     "output_type": "stream",
     "text": [
      "+------------------+--------------+--------------------+\n",
      "|        prediction|motor_emission|            features|\n",
      "+------------------+--------------+--------------------+\n",
      "|0.4527982563076924|    0.47321014|(7,[0,4,6],[1.0,1...|\n",
      "|0.4398863658135592|   0.433788067|(7,[2,4,6],[1.0,1...|\n",
      "|0.4398863658135592|   0.439606618|(7,[2,4,6],[1.0,1...|\n",
      "|0.4510484704285714|   0.451224253|(7,[2,5,6],[1.0,1...|\n",
      "|0.4510484704285714|   0.433955702|(7,[2,5,6],[1.0,1...|\n",
      "+------------------+--------------+--------------------+\n",
      "only showing top 5 rows\n",
      "\n",
      "Root Mean Squared Error (RMSE) on test data = 0.0101978\n",
      "Coefficient of determination (r2) on test data = 0.988888\n",
      "DecisionTreeRegressionModel (uid=DecisionTreeRegressor_4176b4afaa8a83397df7) of depth 5 with 55 nodes\n"
     ]
    }
   ],
   "source": [
    "from pyspark.ml.regression import DecisionTreeRegressor\n",
    "\n",
    "\n",
    "# Train a DecisionTree model.\n",
    "dt = DecisionTreeRegressor(labelCol=\"motor_emission\")\n",
    "\n",
    "\n",
    "# Train model.  This also runs the indexer.\n",
    "model = dt.fit(trainingData)\n",
    "\n",
    "# Make predictions.\n",
    "predictions = model.transform(testData)\n",
    "\n",
    "# Select example rows to display.\n",
    "predictions.select(\"prediction\", \"motor_emission\", \"features\").show(5)\n",
    "\n",
    "# Select (prediction, true label) and compute test error\n",
    "rmse = evaluator1.evaluate(predictions)\n",
    "print(\"Root Mean Squared Error (RMSE) on test data = %g\" % rmse)\n",
    "\n",
    "r2 = evaluator2.evaluate(predictions)\n",
    "print(\"Coefficient of determination (r2) on test data = %g\" % r2)\n",
    "\n",
    "\n",
    "print(model)\n",
    "\n"
   ]
  },
  {
   "cell_type": "markdown",
   "metadata": {},
   "source": [
    "## Random forest regression"
   ]
  },
  {
   "cell_type": "code",
   "execution_count": 22,
   "metadata": {},
   "outputs": [
    {
     "name": "stdout",
     "output_type": "stream",
     "text": [
      "+-------------------+--------------+--------------------+\n",
      "|         prediction|motor_emission|            features|\n",
      "+-------------------+--------------+--------------------+\n",
      "|  0.447039227675467|    0.47321014|(7,[0,4,6],[1.0,1...|\n",
      "|0.43484322056194696|   0.433788067|(7,[2,4,6],[1.0,1...|\n",
      "|0.43224081652057234|   0.439606618|(7,[2,4,6],[1.0,1...|\n",
      "|0.44104306283034295|   0.451224253|(7,[2,5,6],[1.0,1...|\n",
      "| 0.4406332291507975|   0.433955702|(7,[2,5,6],[1.0,1...|\n",
      "+-------------------+--------------+--------------------+\n",
      "only showing top 5 rows\n",
      "\n",
      "Root Mean Squared Error (RMSE) on test data = 0.0103108\n",
      "Coefficient of determination (r2) on test data = 0.98864\n",
      "RandomForestRegressionModel (uid=rfr_992e4ddae495) with 20 trees\n"
     ]
    }
   ],
   "source": [
    "from pyspark.ml.regression import RandomForestRegressor\n",
    "\n",
    "\n",
    "\n",
    "# Train a RandomForest model.\n",
    "rf = RandomForestRegressor(labelCol=\"motor_emission\")\n",
    "\n",
    "\n",
    "# Train model.  This also runs the indexer.\n",
    "model = rf.fit(trainingData)\n",
    "\n",
    "# Make predictions.\n",
    "predictions = model.transform(testData)\n",
    "\n",
    "# Select example rows to display.\n",
    "predictions.select(\"prediction\", \"motor_emission\", \"features\").show(5)\n",
    "\n",
    "# Select (prediction, true label) and compute test error\n",
    "rmse = evaluator1.evaluate(predictions)\n",
    "print(\"Root Mean Squared Error (RMSE) on test data = %g\" % rmse)\n",
    "\n",
    "r2 = evaluator2.evaluate(predictions)\n",
    "print(\"Coefficient of determination (r2) on test data = %g\" % r2)\n",
    "\n",
    "print(model)  # summary only"
   ]
  },
  {
   "cell_type": "markdown",
   "metadata": {},
   "source": [
    "## Gradient-boosted tree regression"
   ]
  },
  {
   "cell_type": "code",
   "execution_count": 23,
   "metadata": {},
   "outputs": [
    {
     "name": "stdout",
     "output_type": "stream",
     "text": [
      "+-------------------+--------------+--------------------+\n",
      "|         prediction|motor_emission|            features|\n",
      "+-------------------+--------------+--------------------+\n",
      "| 0.4527728090017369|    0.47321014|(7,[0,4,6],[1.0,1...|\n",
      "|0.44080181608008595|   0.433788067|(7,[2,4,6],[1.0,1...|\n",
      "|0.43444182792516056|   0.439606618|(7,[2,4,6],[1.0,1...|\n",
      "|0.45082285619957246|   0.451224253|(7,[2,5,6],[1.0,1...|\n",
      "|0.44759278527313257|   0.433955702|(7,[2,5,6],[1.0,1...|\n",
      "+-------------------+--------------+--------------------+\n",
      "only showing top 5 rows\n",
      "\n",
      "Root Mean Squared Error (RMSE) on test data = 0.0105184\n",
      "Coefficient of determination (r2) on test data = 0.988178\n",
      "GBTRegressionModel (uid=GBTRegressor_481a84a5dec0b7a1c308) with 10 trees\n"
     ]
    }
   ],
   "source": [
    "from pyspark.ml.regression import GBTRegressor\n",
    "\n",
    "\n",
    "# Train a GBT model.\n",
    "gbt = GBTRegressor(labelCol=\"motor_emission\", maxIter=10)\n",
    "\n",
    "\n",
    "\n",
    "# Train model.  This also runs the indexer.\n",
    "model = gbt.fit(trainingData)\n",
    "\n",
    "# Make predictions.\n",
    "predictions = model.transform(testData)\n",
    "\n",
    "# Select example rows to display.\n",
    "predictions.select(\"prediction\", \"motor_emission\", \"features\").show(5)\n",
    "\n",
    "# Select (prediction, true label) and compute test error\n",
    "rmse = evaluator1.evaluate(predictions)\n",
    "print(\"Root Mean Squared Error (RMSE) on test data = %g\" % rmse)\n",
    "\n",
    "r2 = evaluator2.evaluate(predictions)\n",
    "print(\"Coefficient of determination (r2) on test data = %g\" % r2)\n",
    "\n",
    "print(model)  # summary only\n"
   ]
  },
  {
   "cell_type": "markdown",
   "metadata": {},
   "source": [
    "## Build model(hyperparameter selection)"
   ]
  },
  {
   "cell_type": "code",
   "execution_count": 58,
   "metadata": {},
   "outputs": [
    {
     "name": "stdout",
     "output_type": "stream",
     "text": [
      "Best regparam = 0, Best elasticNetparam = 0\n",
      "Best Coefficient of determination (r2) on test data = 0.989876\n"
     ]
    }
   ],
   "source": [
    "#initialize linear regression model\n",
    "import numpy as np\n",
    "B_r2 = 0\n",
    "c = 0\n",
    "B_enp = 0\n",
    "for rp in np.arange(0.0, 1, 0.001):\n",
    "    lr = LinearRegression(maxIter=100, regParam=rp, elasticNetParam= B_enp,labelCol='motor_emission')\n",
    "    lrModel = lr.fit(trainingData)\n",
    "    validation = lrModel.transform(validatingData)\n",
    "    r2 = evaluator2.evaluate(validation)\n",
    "    if r2 > B_r2:\n",
    "        B_r2 = r2\n",
    "        B_rp = rp\n",
    "for enp in np.arange(0.0, 1, 0.001):\n",
    "    lr = LinearRegression(maxIter=100, regParam=B_rp, elasticNetParam= enp,labelCol='motor_emission')\n",
    "    lrModel = lr.fit(trainingData)\n",
    "    validation = lrModel.transform(validatingData)\n",
    "    r2 = evaluator2.evaluate(validation)\n",
    "    if r2 > B_r2:\n",
    "        B_r2 = r2\n",
    "        B_enp = enp\n",
    "print(\"Best regparam = %g, Best elasticNetparam = %g\" % (B_rp, B_enp))\n",
    "        \n",
    "print(\"Best Coefficient of determination (r2) on test data = %g\" % B_r2)\n"
   ]
  },
  {
   "cell_type": "markdown",
   "metadata": {},
   "source": [
    "# Data mining"
   ]
  },
  {
   "cell_type": "code",
   "execution_count": 25,
   "metadata": {},
   "outputs": [],
   "source": [
    "#initialize linear regression model\n",
    "lr = LinearRegression(maxIter=100, regParam=0, elasticNetParam= 0,labelCol='motor_emission')\n",
    "# Fit the model\n",
    "lrModel = lr.fit(trainingData)"
   ]
  },
  {
   "cell_type": "markdown",
   "metadata": {},
   "source": [
    "## Model details"
   ]
  },
  {
   "cell_type": "code",
   "execution_count": 33,
   "metadata": {},
   "outputs": [
    {
     "name": "stdout",
     "output_type": "stream",
     "text": [
      "Coefficients: [0.048164432541187546,0.12716032579290829,0.04490855762402307,0.03703694748471958,0.002082099795425007,0.000555063078109744,-0.019172624367376597]\n",
      "+--------------------+-------------------+-------------------+-------------------+--------------------+-------------------+--------------------+\n",
      "|   High_speed_acc_lv|   Low_speed_acc_lv|High_speed_deacc_lv|         aggressive|         Experienced|         gender_int|      normalized_age|\n",
      "+--------------------+-------------------+-------------------+-------------------+--------------------+-------------------+--------------------+\n",
      "|0.048164432541187546|0.12716032579290829|0.04490855762402307|0.03703694748471958|0.002082099795425007|5.55063078109744E-4|-0.01917262436737...|\n",
      "+--------------------+-------------------+-------------------+-------------------+--------------------+-------------------+--------------------+\n",
      "\n"
     ]
    }
   ],
   "source": [
    "# Print the coefficients and intercept for linear regression\n",
    "print(\"Coefficients: %s\" % str(lrModel.coefficients))\n",
    "\n",
    "coffi_tup = tuple(lrModel.coefficients.tolist())\n",
    "\n",
    "# Convert sex to an array using Numpy and plot it using pyplot\n",
    "coffi = spark.createDataFrame([coffi_tup], (\"High_speed_acc_lv\",\"Low_speed_acc_lv\",\"High_speed_deacc_lv\",\n",
    "                                            \"aggressive\", \"Experienced\", \"gender_int\", \"normalized_age\"))\n",
    "coffi.show()"
   ]
  },
  {
   "cell_type": "code",
   "execution_count": 27,
   "metadata": {},
   "outputs": [
    {
     "name": "stdout",
     "output_type": "stream",
     "text": [
      "Intercept: 0.40926861369796175\n"
     ]
    }
   ],
   "source": [
    "print(\"Intercept: %s\" % str(lrModel.intercept))"
   ]
  },
  {
   "cell_type": "code",
   "execution_count": 30,
   "metadata": {},
   "outputs": [
    {
     "name": "stdout",
     "output_type": "stream",
     "text": [
      "numIterations: 1\n",
      "objectiveHistory: [0.0]\n"
     ]
    }
   ],
   "source": [
    "# Summarize the model over the training set and print out some metrics\n",
    "trainingSummary = lrModel.summary\n",
    "print(\"numIterations: %d\" % trainingSummary.totalIterations)\n",
    "print(\"objectiveHistory: %s\" % str(trainingSummary.objectiveHistory))"
   ]
  },
  {
   "cell_type": "code",
   "execution_count": 31,
   "metadata": {},
   "outputs": [
    {
     "name": "stdout",
     "output_type": "stream",
     "text": [
      "RMSE: 0.009347\n",
      "r2: 0.992628\n"
     ]
    }
   ],
   "source": [
    "#Performance on training test\n",
    "print(\"RMSE: %f\" % trainingSummary.rootMeanSquaredError)\n",
    "print(\"r2: %f\" % trainingSummary.r2)"
   ]
  },
  {
   "cell_type": "markdown",
   "metadata": {},
   "source": [
    "## Test results"
   ]
  },
  {
   "cell_type": "code",
   "execution_count": 29,
   "metadata": {},
   "outputs": [
    {
     "name": "stdout",
     "output_type": "stream",
     "text": [
      "+-------------------+--------------+--------------------+\n",
      "|         prediction|motor_emission|            features|\n",
      "+-------------------+--------------+--------------------+\n",
      "| 0.4561599367702834|    0.47321014|(7,[0,4,6],[1.0,1...|\n",
      "| 0.4447556964969839|   0.433788067|(7,[2,4,6],[1.0,1...|\n",
      "| 0.4385245935775865|   0.439606618|(7,[2,4,6],[1.0,1...|\n",
      "| 0.4489804470898816|   0.451224253|(7,[2,5,6],[1.0,1...|\n",
      "|0.44610455343477506|   0.433955702|(7,[2,5,6],[1.0,1...|\n",
      "+-------------------+--------------+--------------------+\n",
      "only showing top 5 rows\n",
      "\n",
      "Root Mean Squared Error (RMSE) on test data = 0.00953561\n",
      "Coefficient of determination (r2) on test data = 0.990284\n"
     ]
    }
   ],
   "source": [
    "## Testing result of Linear regression\n",
    "# Make predictions.\n",
    "predictions = lrModel.transform(testData)\n",
    "\n",
    "# Select example rows to display.\n",
    "predictions.select(\"prediction\", \"motor_emission\", \"features\").show(5)\n",
    "\n",
    "# Select (prediction, true label) and compute test error\n",
    "rmse = evaluator1.evaluate(predictions)\n",
    "print(\"Root Mean Squared Error (RMSE) on test data = %g\" % rmse)\n",
    "\n",
    "r2 = evaluator2.evaluate(predictions)\n",
    "print(\"Coefficient of determination (r2) on test data = %g\" % r2)"
   ]
  },
  {
   "cell_type": "markdown",
   "metadata": {},
   "source": [
    "# Interpretation"
   ]
  },
  {
   "cell_type": "markdown",
   "metadata": {},
   "source": [
    "## Visualization"
   ]
  },
  {
   "cell_type": "code",
   "execution_count": 54,
   "metadata": {},
   "outputs": [
    {
     "data": {
      "image/png": "[encoded data removed]",
      "text/plain": [
       "<Figure size 432x288 with 1 Axes>"
      ]
     },
     "metadata": {},
     "output_type": "display_data"
    }
   ],
   "source": [
    "# Import the relevant Python libraries.\n",
    "import numpy as np\n",
    "import matplotlib.pyplot as plt\n",
    "#differences between prediction and true value\n",
    "plt.plot(predictions.select(\"prediction\").collect())\n",
    "plt.plot(predictions.select(\"motor_emission\").collect())\n",
    "plt.title(\"Prediction and true value\")\n",
    "plt.show()"
   ]
  },
  {
   "cell_type": "code",
   "execution_count": 55,
   "metadata": {},
   "outputs": [
    {
     "data": {
      "image/png": "[encoded data removed]",
      "text/plain": [
       "<Figure size 432x288 with 1 Axes>"
      ]
     },
     "metadata": {},
     "output_type": "display_data"
    }
   ],
   "source": [
    "plt.barh([\"High_speed_acc_lv\",\"Low_speed_acc_lv\",\"High_speed_deacc_lv\",\n",
    "                                            \"aggressive\", \"Experienced\", \"gender_int\", \"normalized_age\"],lrModel.coefficients)\n",
    "plt.title(\"input features coefficients\")\n",
    "plt.show()"
   ]
  },
  {
   "cell_type": "code",
   "execution_count": 57,
   "metadata": {},
   "outputs": [
    {
     "data": {
      "image/png": "[encoded data removed]",
      "text/plain": [
       "<Figure size 432x288 with 1 Axes>"
      ]
     },
     "metadata": {},
     "output_type": "display_data"
    }
   ],
   "source": [
    "plt.barh([\"High_speed_acc_lv\",\"Low_speed_acc_lv\",\"High_speed_deacc_lv\",\n",
    "    \"aggressive\", \"Experienced\", \"gender_int\", \"normalized_age\"],[0.015/3,0.04/3,0.012/3,0.01/3,0,0,-0.004/3])\n",
    "plt.title(\"input features cook up variable\")\n",
    "plt.show()"
   ]
  },
  {
   "cell_type": "code",
   "execution_count": null,
   "metadata": {},
   "outputs": [],
   "source": []
  }
 ],
 "metadata": {
  "celltoolbar": "Raw Cell Format",
  "kernelspec": {
   "display_name": "Python 3",
   "language": "python",
   "name": "python3"
  },
  "language_info": {
   "codemirror_mode": {
    "name": "ipython",
    "version": 3
   },
   "file_extension": ".py",
   "mimetype": "text/x-python",
   "name": "python",
   "nbconvert_exporter": "python",
   "pygments_lexer": "ipython3",
   "version": "3.5.2"
  }
 },
 "nbformat": 4,
 "nbformat_minor": 2
}
